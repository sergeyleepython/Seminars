{
 "cells": [
  {
   "cell_type": "markdown",
   "metadata": {},
   "source": [
    "# AI Community @ Семинар  №5\n",
    "## Домашнее задание"
   ]
  },
  {
   "cell_type": "markdown",
   "metadata": {},
   "source": [
    "В этом домашнем задании вы будете исследовать несколько наборов данных.  \n",
    "Для каждого набора данных нужно выполнить задания:\n",
    "\n",
    "1. _(1 балл)_ Сделать визуализацию данных в 2D с помощью PCA.\n",
    "2. _(1 балл)_ Сделать визуализацию данных в 2D с помощью t-SNE.\n",
    "3. _(2 балла)_ Пояснить словами обе визуализации. \n",
    "4. _(2 балла)_ Выбрать классификатор (регрессия, деревья). Сравнить результаты предсказания по метрике F1-score в трех случаях - обычные данные, обработанные с помощью PCA, обработанные с помощью t-SNE.\n",
    "5. _(1 балл)_ Указать для каждого набора данных размерность, до которой нужно уменьшить изначальную размерность данных, чтобы получить наилучшее предсказание по метрике f1."
   ]
  },
  {
   "cell_type": "code",
   "execution_count": 2,
   "metadata": {
    "collapsed": false
   },
   "outputs": [
    {
     "name": "stderr",
     "output_type": "stream",
     "text": [
      "/home/asus/anaconda3/lib/python3.6/site-packages/sklearn/cross_validation.py:44: DeprecationWarning: This module was deprecated in version 0.18 in favor of the model_selection module into which all the refactored classes and functions are moved. Also note that the interface of the new CV iterators are different from that of this module. This module will be removed in 0.20.\n",
      "  \"This module will be removed in 0.20.\", DeprecationWarning)\n"
     ]
    }
   ],
   "source": [
    "import pandas as pd\n",
    "import numpy as np\n",
    "\n",
    "from sklearn.decomposition import PCA\n",
    "from sklearn.manifold import TSNE\n",
    "\n",
    "from sklearn.cross_validation import train_test_split\n",
    "from sklearn.ensemble import RandomForestClassifier, RandomForestRegressor, \\\n",
    "                             GradientBoostingClassifier, GradientBoostingRegressor\n",
    "from sklearn.linear_model import LinearRegression, LogisticRegression, Lasso, Ridge\n",
    "\n",
    "from sklearn.metrics import f1_score"
   ]
  },
  {
   "cell_type": "markdown",
   "metadata": {},
   "source": [
    "## 0. Предсказание неявки пациента к врачу\n",
    "Необходимо сделать предсказание о том, придет ли пациент(-ка) в назначенное время к врачу (0) или не придет (1).  \n",
    "Данные содержат 13 признаков. Признак `Scholarship` означает наличие [Bolsa Família](https://en.wikipedia.org/wiki/Bolsa_Fam%C3%ADlia).  \n",
    "Нужно разбить данные на `train` и `test` с помощью `train_test_split()`, обучиться на `train` и предсказать значения для `test`.  "
   ]
  },
  {
   "cell_type": "code",
   "execution_count": 3,
   "metadata": {
    "collapsed": false
   },
   "outputs": [],
   "source": [
    "X = pd.read_csv(\"./data/noshowappointments.csv\")\n",
    "y = X['No-show']\n",
    "X = X.drop('No-show', axis=1)"
   ]
  },
  {
   "cell_type": "code",
   "execution_count": 5,
   "metadata": {
    "collapsed": false
   },
   "outputs": [],
   "source": [
    "X_train, X_test, y_train, y_test = train_test_split(X, y, test_size=0.33, random_state=42)"
   ]
  },
  {
   "cell_type": "markdown",
   "metadata": {},
   "source": [
    "## 1. Предсказание команды-победителя в Dota 2  \n",
    "Необходимо сделать предсказание о том, какая команда победит в матче [Dota 2](https://en.wikipedia.org/wiki/Dota_2) по информации о первых 5 минутах игры.  \n",
    "Данные содержат 103 признака.  \n",
    "Нужно разбить данные на `train` и `test` с помощью `train_test_split`, обучиться на `train` и предсказать значения для `test.  \n",
    "Данные имеют пропуски."
   ]
  },
  {
   "cell_type": "code",
   "execution_count": null,
   "metadata": {
    "collapsed": true
   },
   "outputs": [],
   "source": [
    "X = pd.read_csv(\"./data/dota_features.csv\")\n",
    "y = X['radiant_win']\n",
    "X = X.drop(['radiant_win', 'duration', \n",
    "            'tower_status_radiant', 'tower_status_dire',\n",
    "            'barracks_status_radiant', 'barracks_status_dire'], axis=1)"
   ]
  },
  {
   "cell_type": "code",
   "execution_count": null,
   "metadata": {
    "collapsed": true
   },
   "outputs": [],
   "source": [
    "# Ваше решение здесь"
   ]
  },
  {
   "cell_type": "markdown",
   "metadata": {},
   "source": [
    "## 2. Предсказание наличия болезни  \n",
    "Необходимо сделать предсказание о наличии (1) или отсутствии (0) болезни для каждого пациента (пациентки).  \n",
    "Данные содержат 1330 признаков. Столбцы с V2 по V331 соответствуют различным медицинским показателям, столбцы с V332 по V1331 соответствуют генетическим данным пациента.  \n",
    "Нужно разбить данные на `train` и `test` с помощью `train_test_split()`, обучиться на `train` и предсказать значения для `test.  \n",
    "Данные имеют пропуски."
   ]
  },
  {
   "cell_type": "code",
   "execution_count": null,
   "metadata": {
    "collapsed": true
   },
   "outputs": [],
   "source": [
    "X = pd.read_csv(\"./data/disease_prediction.csv\")\n",
    "y = X['target']\n",
    "X = X.drop('target', axis=1)"
   ]
  },
  {
   "cell_type": "code",
   "execution_count": null,
   "metadata": {
    "collapsed": true
   },
   "outputs": [],
   "source": [
    "# Ваше решение здесь"
   ]
  }
 ],
 "metadata": {
  "kernelspec": {
   "display_name": "Python 3",
   "language": "python",
   "name": "python3"
  },
  "language_info": {
   "codemirror_mode": {
    "name": "ipython",
    "version": 3
   },
   "file_extension": ".py",
   "mimetype": "text/x-python",
   "name": "python",
   "nbconvert_exporter": "python",
   "pygments_lexer": "ipython3",
   "version": "3.6.0"
  }
 },
 "nbformat": 4,
 "nbformat_minor": 2
}
